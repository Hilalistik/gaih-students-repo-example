{
  "nbformat": 4,
  "nbformat_minor": 0,
  "metadata": {
    "colab": {
      "name": "Untitled1.ipynb",
      "provenance": [],
      "collapsed_sections": [],
      "authorship_tag": "ABX9TyMbFOTGDDZ7qB3IdC4dLarA",
      "include_colab_link": true
    },
    "kernelspec": {
      "name": "python3",
      "display_name": "Python 3"
    }
  },
  "cells": [
    {
      "cell_type": "markdown",
      "metadata": {
        "id": "view-in-github",
        "colab_type": "text"
      },
      "source": [
        "<a href=\"https://colab.research.google.com/github/Hilalistik/gaih-students-repo-example/blob/main/Untitled1.ipynb\" target=\"_parent\"><img src=\"https://colab.research.google.com/assets/colab-badge.svg\" alt=\"Open In Colab\"/></a>"
      ]
    },
    {
      "cell_type": "code",
      "metadata": {
        "colab": {
          "base_uri": "https://localhost:8080/"
        },
        "id": "9xKiLXprvut9",
        "outputId": "725e4cd1-34fb-4e06-ac05-6c866215d0ee"
      },
      "source": [
        "# Program to multiply two matrices using nested loops\r\n",
        "\r\n",
        "\r\n",
        "# 3x2 matrix\r\n",
        "X = [ [1,1],[1,1],[1,1] ]\r\n",
        "# 2x3 matrix\r\n",
        "Y = [ [1,3,5],[6,8,12] ]\r\n",
        "\r\n",
        "# resultant matrix\r\n",
        "result = [ [0,0,0],[0,0,0],[0,0,0] ]\r\n",
        "\r\n",
        "my_list = []\r\n",
        "# iterating rows of X matrix\r\n",
        "for i in range( len(X) ):\r\n",
        "   # iterating columns of Y matrix\r\n",
        "   for j in range(len(Y[0])):\r\n",
        "       # iterating rows of Y matrix\r\n",
        "       for k in range(len(Y)):\r\n",
        "           result[i][j] += X[i][k] * Y[k][j]\r\n",
        "  \r\n",
        "\r\n",
        "for r in result:\r\n",
        "   print(r)\r\n"
      ],
      "execution_count": null,
      "outputs": [
        {
          "output_type": "stream",
          "text": [
            "[7, 11, 17]\n",
            "[7, 11, 17]\n",
            "[7, 11, 17]\n"
          ],
          "name": "stdout"
        }
      ]
    },
    {
      "cell_type": "code",
      "metadata": {
        "id": "0P0kpnaD7PZ8",
        "outputId": "bf8ef782-3b40-4104-d96e-aab8306bc30e",
        "colab": {
          "base_uri": "https://localhost:8080/"
        }
      },
      "source": [
        "# Prime number generator\r\n",
        "def prime_generator(end):\r\n",
        "    for n in range(2, end):     # n starts from 2 to end\r\n",
        "        for x in range(2, n):   # check if x can be divided by n\r\n",
        "            if n % x == 0:      # if true then n is not prime\r\n",
        "                break\r\n",
        "        else:                   # if x is found after exhausting all values of x\r\n",
        "            yield n             # generate the prime\r\n",
        "\r\n",
        "\r\n",
        "g = prime_generator(1000)       # give firt 1000 prime numbers\r\n",
        "print(list(g)) "
      ],
      "execution_count": 1,
      "outputs": [
        {
          "output_type": "stream",
          "text": [
            "[2, 3, 5, 7, 11, 13, 17, 19, 23, 29, 31, 37, 41, 43, 47, 53, 59, 61, 67, 71, 73, 79, 83, 89, 97, 101, 103, 107, 109, 113, 127, 131, 137, 139, 149, 151, 157, 163, 167, 173, 179, 181, 191, 193, 197, 199, 211, 223, 227, 229, 233, 239, 241, 251, 257, 263, 269, 271, 277, 281, 283, 293, 307, 311, 313, 317, 331, 337, 347, 349, 353, 359, 367, 373, 379, 383, 389, 397, 401, 409, 419, 421, 431, 433, 439, 443, 449, 457, 461, 463, 467, 479, 487, 491, 499, 503, 509, 521, 523, 541, 547, 557, 563, 569, 571, 577, 587, 593, 599, 601, 607, 613, 617, 619, 631, 641, 643, 647, 653, 659, 661, 673, 677, 683, 691, 701, 709, 719, 727, 733, 739, 743, 751, 757, 761, 769, 773, 787, 797, 809, 811, 821, 823, 827, 829, 839, 853, 857, 859, 863, 877, 881, 883, 887, 907, 911, 919, 929, 937, 941, 947, 953, 967, 971, 977, 983, 991, 997]\n"
          ],
          "name": "stdout"
        }
      ]
    },
    {
      "cell_type": "code",
      "metadata": {
        "id": "9gG3cDuz7ZRw"
      },
      "source": [
        ""
      ],
      "execution_count": null,
      "outputs": []
    },
    {
      "cell_type": "code",
      "metadata": {
        "colab": {
          "base_uri": "https://localhost:8080/"
        },
        "id": "ld-Xtbht24iH",
        "outputId": "c30f4df8-d656-4363-9159-d9d51af18820"
      },
      "source": [
        "# Program to multiply two matrices using list comprehension\r\n",
        "\r\n",
        "# 3x2 matrix\r\n",
        "X = [ [1,2],[3,4],[4,5] ]\r\n",
        "# 2x3 matrix\r\n",
        "Y = [ [1,2,3],[4,5,6] ]\r\n",
        "\r\n",
        "# resultant matrix\r\n",
        "resultant = [[sum(a*b for a,b in zip(X_row,Y_col)) for Y_col in zip(*Y)] for X_row in X]\r\n",
        "\r\n",
        "# printing matrix.\r\n",
        "for x in resultant:\r\n",
        "   print(x)"
      ],
      "execution_count": null,
      "outputs": [
        {
          "output_type": "stream",
          "text": [
            "[9, 12, 15]\n",
            "[19, 26, 33]\n",
            "[24, 33, 42]\n"
          ],
          "name": "stdout"
        }
      ]
    }
  ]
}