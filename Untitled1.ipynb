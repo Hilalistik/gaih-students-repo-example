{
  "nbformat": 4,
  "nbformat_minor": 0,
  "metadata": {
    "colab": {
      "name": "Untitled1.ipynb",
      "provenance": [],
      "authorship_tag": "ABX9TyMVDN0ggfRDOLtho1gLVOPc",
      "include_colab_link": true
    },
    "kernelspec": {
      "name": "python3",
      "display_name": "Python 3"
    }
  },
  "cells": [
    {
      "cell_type": "markdown",
      "metadata": {
        "id": "view-in-github",
        "colab_type": "text"
      },
      "source": [
        "<a href=\"https://colab.research.google.com/github/Hilalistik/gaih-students-repo-example/blob/main/Untitled1.ipynb\" target=\"_parent\"><img src=\"https://colab.research.google.com/assets/colab-badge.svg\" alt=\"Open In Colab\"/></a>"
      ]
    },
    {
      "cell_type": "code",
      "metadata": {
        "colab": {
          "base_uri": "https://localhost:8080/"
        },
        "id": "9xKiLXprvut9",
        "outputId": "92367bfa-d723-4589-c336-b51a63022d16"
      },
      "source": [
        "# Program to multiply two matrices using nested loops\r\n",
        "\r\n",
        "\r\n",
        "# 3x2 matrix\r\n",
        "X = [ [1,11],[5,7],[7,3] ]\r\n",
        "# 2x3 matrix\r\n",
        "Y = [ [1,7,3],[2,19,7] ]\r\n",
        "\r\n",
        "# resultant matrix\r\n",
        "result = [ [0,0,0],[0,0,0],[0,0,0] ]\r\n",
        "\r\n",
        "my_list = []\r\n",
        "# iterating rows of X matrix\r\n",
        "for i in range( len(X) ):\r\n",
        "   # iterating columns of Y matrix\r\n",
        "   for j in range(len(Y[0])):\r\n",
        "       # iterating rows of Y matrix\r\n",
        "       for k in range(len(Y)):\r\n",
        "           result[i][j] += X[i][k] * Y[k][j]\r\n",
        "  \r\n",
        "\r\n",
        "for r in result:\r\n",
        "   print(r)\r\n"
      ],
      "execution_count": 7,
      "outputs": [
        {
          "output_type": "stream",
          "text": [
            "[23, 216, 80]\n",
            "[19, 168, 64]\n",
            "[13, 106, 42]\n"
          ],
          "name": "stdout"
        }
      ]
    }
  ]
}