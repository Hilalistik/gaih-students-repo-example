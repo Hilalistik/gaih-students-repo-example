{
  "nbformat": 4,
  "nbformat_minor": 0,
  "metadata": {
    "colab": {
      "name": "Untitled1.ipynb",
      "provenance": [],
      "collapsed_sections": [],
      "authorship_tag": "ABX9TyNK0wFkHGKSz8u+XY1HI5yZ",
      "include_colab_link": true
    },
    "kernelspec": {
      "name": "python3",
      "display_name": "Python 3"
    }
  },
  "cells": [
    {
      "cell_type": "markdown",
      "metadata": {
        "id": "view-in-github",
        "colab_type": "text"
      },
      "source": [
        "<a href=\"https://colab.research.google.com/github/Hilalistik/gaih-students-repo-example/blob/main/Untitled1.ipynb\" target=\"_parent\"><img src=\"https://colab.research.google.com/assets/colab-badge.svg\" alt=\"Open In Colab\"/></a>"
      ]
    },
    {
      "cell_type": "code",
      "metadata": {
        "colab": {
          "base_uri": "https://localhost:8080/"
        },
        "id": "9xKiLXprvut9",
        "outputId": "725e4cd1-34fb-4e06-ac05-6c866215d0ee"
      },
      "source": [
        "# Program to multiply two matrices using nested loops\r\n",
        "\r\n",
        "\r\n",
        "# 3x2 matrix\r\n",
        "X = [ [1,1],[1,1],[1,1] ]\r\n",
        "# 2x3 matrix\r\n",
        "Y = [ [1,3,5],[6,8,12] ]\r\n",
        "\r\n",
        "# resultant matrix\r\n",
        "result = [ [0,0,0],[0,0,0],[0,0,0] ]\r\n",
        "\r\n",
        "my_list = []\r\n",
        "# iterating rows of X matrix\r\n",
        "for i in range( len(X) ):\r\n",
        "   # iterating columns of Y matrix\r\n",
        "   for j in range(len(Y[0])):\r\n",
        "       # iterating rows of Y matrix\r\n",
        "       for k in range(len(Y)):\r\n",
        "           result[i][j] += X[i][k] * Y[k][j]\r\n",
        "  \r\n",
        "\r\n",
        "for r in result:\r\n",
        "   print(r)\r\n"
      ],
      "execution_count": 9,
      "outputs": [
        {
          "output_type": "stream",
          "text": [
            "[7, 11, 17]\n",
            "[7, 11, 17]\n",
            "[7, 11, 17]\n"
          ],
          "name": "stdout"
        }
      ]
    },
    {
      "cell_type": "code",
      "metadata": {
        "colab": {
          "base_uri": "https://localhost:8080/"
        },
        "id": "ld-Xtbht24iH",
        "outputId": "c30f4df8-d656-4363-9159-d9d51af18820"
      },
      "source": [
        "# Program to multiply two matrices using list comprehension\r\n",
        "\r\n",
        "# 3x2 matrix\r\n",
        "X = [ [1,2],[3,4],[4,5] ]\r\n",
        "# 2x3 matrix\r\n",
        "Y = [ [1,2,3],[4,5,6] ]\r\n",
        "\r\n",
        "# resultant matrix\r\n",
        "resultant = [[sum(a*b for a,b in zip(X_row,Y_col)) for Y_col in zip(*Y)] for X_row in X]\r\n",
        "\r\n",
        "# printing matrix.\r\n",
        "for x in resultant:\r\n",
        "   print(x)"
      ],
      "execution_count": 8,
      "outputs": [
        {
          "output_type": "stream",
          "text": [
            "[9, 12, 15]\n",
            "[19, 26, 33]\n",
            "[24, 33, 42]\n"
          ],
          "name": "stdout"
        }
      ]
    }
  ]
}