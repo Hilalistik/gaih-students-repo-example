{
  "nbformat": 4,
  "nbformat_minor": 0,
  "metadata": {
    "colab": {
      "name": "Untitled1.ipynb",
      "provenance": [],
      "collapsed_sections": [],
      "authorship_tag": "ABX9TyMLUz7EHPc92+TQn/kMme96",
      "include_colab_link": true
    },
    "kernelspec": {
      "name": "python3",
      "display_name": "Python 3"
    }
  },
  "cells": [
    {
      "cell_type": "markdown",
      "metadata": {
        "id": "view-in-github",
        "colab_type": "text"
      },
      "source": [
        "<a href=\"https://colab.research.google.com/github/Hilalistik/gaih-students-repo-example/blob/main/Untitled1.ipynb\" target=\"_parent\"><img src=\"https://colab.research.google.com/assets/colab-badge.svg\" alt=\"Open In Colab\"/></a>"
      ]
    },
    {
      "cell_type": "code",
      "metadata": {
        "colab": {
          "base_uri": "https://localhost:8080/"
        },
        "id": "9xKiLXprvut9",
        "outputId": "725e4cd1-34fb-4e06-ac05-6c866215d0ee"
      },
      "source": [
        "# Program to multiply two matrices using nested loops\r\n",
        "\r\n",
        "\r\n",
        "# 3x2 matrix\r\n",
        "X = [ [1,1],[1,1],[1,1] ]\r\n",
        "# 2x3 matrix\r\n",
        "Y = [ [1,3,5],[6,8,12] ]\r\n",
        "\r\n",
        "# resultant matrix\r\n",
        "result = [ [0,0,0],[0,0,0],[0,0,0] ]\r\n",
        "\r\n",
        "my_list = []\r\n",
        "# iterating rows of X matrix\r\n",
        "for i in range( len(X) ):\r\n",
        "   # iterating columns of Y matrix\r\n",
        "   for j in range(len(Y[0])):\r\n",
        "       # iterating rows of Y matrix\r\n",
        "       for k in range(len(Y)):\r\n",
        "           result[i][j] += X[i][k] * Y[k][j]\r\n",
        "  \r\n",
        "\r\n",
        "for r in result:\r\n",
        "   print(r)\r\n"
      ],
      "execution_count": 9,
      "outputs": [
        {
          "output_type": "stream",
          "text": [
            "[7, 11, 17]\n",
            "[7, 11, 17]\n",
            "[7, 11, 17]\n"
          ],
          "name": "stdout"
        }
      ]
    },
    {
      "cell_type": "code",
      "metadata": {
        "colab": {
          "base_uri": "https://localhost:8080/"
        },
        "id": "ld-Xtbht24iH",
        "outputId": "c30f4df8-d656-4363-9159-d9d51af18820"
      },
      "source": [
        "# Program to multiply two matrices using list comprehension\r\n",
        "\r\n",
        "# 3x2 matrix\r\n",
        "X = [ [1,2],[3,4],[4,5] ]\r\n",
        "# 2x3 matrix\r\n",
        "Y = [ [1,2,3],[4,5,6] ]\r\n",
        "\r\n",
        "# resultant matrix\r\n",
        "resultant = [[sum(a*b for a,b in zip(X_row,Y_col)) for Y_col in zip(*Y)] for X_row in X]\r\n",
        "\r\n",
        "# printing matrix.\r\n",
        "for x in resultant:\r\n",
        "   print(x)"
      ],
      "execution_count": 8,
      "outputs": [
        {
          "output_type": "stream",
          "text": [
            "[9, 12, 15]\n",
            "[19, 26, 33]\n",
            "[24, 33, 42]\n"
          ],
          "name": "stdout"
        }
      ]
    },
    {
      "cell_type": "code",
      "metadata": {
        "colab": {
          "base_uri": "https://localhost:8080/"
        },
        "id": "vRAe_QDU66b8",
        "outputId": "a79088b0-002c-4152-ef22-8e5ccc4511b5"
      },
      "source": [
        "# Prime number generator\r\n",
        "def prime_generator(end):\r\n",
        "    for n in range(2, end):     # n starts from 2 to end\r\n",
        "        for x in range(2, n):   # check if x can be divided by n\r\n",
        "            if n % x == 0:      # if true then n is not prime\r\n",
        "                break\r\n",
        "        else:                   # if x is found after exhausting all values of x\r\n",
        "            yield n             # generate the prime\r\n",
        "\r\n",
        "\r\n",
        "g = prime_generator(1000)       # give firt 1000 prime numbers\r\n",
        "print(list(g)) "
      ],
      "execution_count": 11,
      "outputs": [
        {
          "output_type": "stream",
          "text": [
            "[2, 3, 5, 7, 11, 13, 17, 19, 23, 29, 31, 37, 41, 43, 47, 53, 59, 61, 67, 71, 73, 79, 83, 89, 97, 101, 103, 107, 109, 113, 127, 131, 137, 139, 149, 151, 157, 163, 167, 173, 179, 181, 191, 193, 197, 199, 211, 223, 227, 229, 233, 239, 241, 251, 257, 263, 269, 271, 277, 281, 283, 293, 307, 311, 313, 317, 331, 337, 347, 349, 353, 359, 367, 373, 379, 383, 389, 397, 401, 409, 419, 421, 431, 433, 439, 443, 449, 457, 461, 463, 467, 479, 487, 491, 499, 503, 509, 521, 523, 541, 547, 557, 563, 569, 571, 577, 587, 593, 599, 601, 607, 613, 617, 619, 631, 641, 643, 647, 653, 659, 661, 673, 677, 683, 691, 701, 709, 719, 727, 733, 739, 743, 751, 757, 761, 769, 773, 787, 797, 809, 811, 821, 823, 827, 829, 839, 853, 857, 859, 863, 877, 881, 883, 887, 907, 911, 919, 929, 937, 941, 947, 953, 967, 971, 977, 983, 991, 997]\n"
          ],
          "name": "stdout"
        }
      ]
    },
    {
      "cell_type": "code",
      "metadata": {
        "colab": {
          "base_uri": "https://localhost:8080/"
        },
        "id": "x_1OjS-H7pwg",
        "outputId": "4e7eb8b1-5b55-4ac9-a827-e41321e8a10a"
      },
      "source": [
        "def is_Power_of_two(n):\r\n",
        "        return n > 0 and (n & (n - 1)) == 0\r\n",
        "print(is_Power_of_two(4))\r\n",
        "print(is_Power_of_two(36))\r\n",
        "print(is_Power_of_two(16))"
      ],
      "execution_count": 15,
      "outputs": [
        {
          "output_type": "stream",
          "text": [
            "True\n",
            "False\n",
            "True\n"
          ],
          "name": "stdout"
        }
      ]
    },
    {
      "cell_type": "code",
      "metadata": {
        "colab": {
          "base_uri": "https://localhost:8080/"
        },
        "id": "awF9p7DB8iRk",
        "outputId": "2713d7d1-a6a3-4160-83ff-10c6cb33139b"
      },
      "source": [
        "print(\"Twinkle, twinkle, little star, \\n\\tHow I wonder what you are! \\n\\t\\tUp above the world so high, \\n\\t\\tLike a diamond in the sky. \\nTwinkle, twinkle, little star, \\n\\tHow I wonder what you are!\")\r\n"
      ],
      "execution_count": 16,
      "outputs": [
        {
          "output_type": "stream",
          "text": [
            "Twinkle, twinkle, little star, \n",
            "\tHow I wonder what you are! \n",
            "\t\tUp above the world so high, \n",
            "\t\tLike a diamond in the sky. \n",
            "Twinkle, twinkle, little star, \n",
            "\tHow I wonder what you are!\n"
          ],
          "name": "stdout"
        }
      ]
    },
    {
      "cell_type": "code",
      "metadata": {
        "colab": {
          "base_uri": "https://localhost:8080/"
        },
        "id": "eahLSzt_8kzd",
        "outputId": "6e380e9a-636b-4ccc-c51c-ec70108ced42"
      },
      "source": [
        "import numpy as np\r\n",
        "print(np.__version__)"
      ],
      "execution_count": 18,
      "outputs": [
        {
          "output_type": "stream",
          "text": [
            "1.19.5\n"
          ],
          "name": "stdout"
        }
      ]
    },
    {
      "cell_type": "code",
      "metadata": {
        "colab": {
          "base_uri": "https://localhost:8080/"
        },
        "id": "WJH4gUPw951g",
        "outputId": "8134bf5a-3069-47d9-9e42-e82a666bef95"
      },
      "source": [
        "import numpy as np\r\n",
        "x = np.ones((3,3))\r\n",
        "print(\"Checkerboard pattern:\")\r\n",
        "x = np.zeros((3,3),dtype=int)\r\n",
        "x[1::2,::2] = 1\r\n",
        "x[::2,1::2] = 1\r\n",
        "print(x)"
      ],
      "execution_count": 19,
      "outputs": [
        {
          "output_type": "stream",
          "text": [
            "Checkerboard pattern:\n",
            "[[0 1 0]\n",
            " [1 0 1]\n",
            " [0 1 0]]\n"
          ],
          "name": "stdout"
        }
      ]
    },
    {
      "cell_type": "code",
      "metadata": {
        "colab": {
          "base_uri": "https://localhost:8080/"
        },
        "id": "MybhdgQY97c6",
        "outputId": "b9a6a51b-0922-404f-e0fd-e67fb63f0eeb"
      },
      "source": [
        "import numpy as np #NumPy: 3x3 matris oluşturun\r\n",
        "x = np.ones((3,3))\r\n",
        "print(\"Checkerboard pattern:\")\r\n",
        "x = np.zeros((3,3),dtype=int)\r\n",
        "x[1::3,::2] = 1\r\n",
        "x[::2,1::3] = 1\r\n",
        "print(x)"
      ],
      "execution_count": 20,
      "outputs": [
        {
          "output_type": "stream",
          "text": [
            "Checkerboard pattern:\n",
            "[[0 1 0]\n",
            " [1 0 1]\n",
            " [0 1 0]]\n"
          ],
          "name": "stdout"
        }
      ]
    },
    {
      "cell_type": "code",
      "metadata": {
        "id": "V3TkryIN-fb-"
      },
      "source": [
        ""
      ],
      "execution_count": null,
      "outputs": []
    },
    {
      "cell_type": "code",
      "metadata": {
        "id": "qGBFabxn-umB"
      },
      "source": [
        "import numpy as np #2 ile 10 arasında değişen değerlere sahip bir 3x3 matris oluşturmak için bir NumPy programı yazın\r\n",
        "x =  np.arange(2, 11).reshape(3,3)\r\n",
        "print(x)"
      ],
      "execution_count": null,
      "outputs": []
    },
    {
      "cell_type": "code",
      "metadata": {
        "colab": {
          "base_uri": "https://localhost:8080/"
        },
        "id": "StnWr_IA_Z_v",
        "outputId": "91ec2041-bc4a-4771-f63a-5890d3cbc6a0"
      },
      "source": [
        "n=5; #döngü oluşturma\r\n",
        "for i in range(n):\r\n",
        "    for j in range(i):\r\n",
        "        print ('* ', end=\"\")\r\n",
        "    print('')\r\n",
        "\r\n",
        "for i in range(n,0,-1):\r\n",
        "    for j in range(i):\r\n",
        "        print('* ', end=\"\")\r\n",
        "    print('')"
      ],
      "execution_count": 22,
      "outputs": [
        {
          "output_type": "stream",
          "text": [
            "\n",
            "* \n",
            "* * \n",
            "* * * \n",
            "* * * * \n",
            "* * * * * \n",
            "* * * * \n",
            "* * * \n",
            "* * \n",
            "* \n"
          ],
          "name": "stdout"
        }
      ]
    },
    {
      "cell_type": "code",
      "metadata": {
        "colab": {
          "base_uri": "https://localhost:8080/"
        },
        "id": "HDz27RwT-MZX",
        "outputId": "da0f4d4f-63ad-40c3-918a-c15004138a73"
      },
      "source": [
        "import numpy as np #NumPy: Sayısal değer listesini tek boyutlu NumPy dizisine dönüştürme\r\n",
        "l = [12.23, 13.32, 100, 36.32]\r\n",
        "print(\"Original List:\",l)\r\n",
        "a = np.array(l)\r\n",
        "print(\"One-dimensional NumPy array: \",a)"
      ],
      "execution_count": 21,
      "outputs": [
        {
          "output_type": "stream",
          "text": [
            "Original List: [12.23, 13.32, 100, 36.32]\n",
            "One-dimensional NumPy array:  [ 12.23  13.32 100.    36.32]\n"
          ],
          "name": "stdout"
        }
      ]
    },
    {
      "cell_type": "code",
      "metadata": {
        "colab": {
          "base_uri": "https://localhost:8080/"
        },
        "id": "UuBbwzvCSd5z",
        "outputId": "7f49ee67-d29c-4b1b-dacf-5ddb30e9bcd7"
      },
      "source": [
        "list1= list((1,2,3,4,5))\r\n",
        "list2=list1\r\n",
        "list3=list1.copy()\r\n",
        "\r\n",
        "list1[-1] = 6\r\n",
        "\r\n",
        "print(f'List 1: {list1}, List 2: {list2}, List 3: {list3}')\r\n",
        "\r\n"
      ],
      "execution_count": 28,
      "outputs": [
        {
          "output_type": "stream",
          "text": [
            "List 1: [1, 2, 3, 4, 6], List 2: [1, 2, 3, 4, 6], List 3: [1, 2, 3, 4, 5]\n"
          ],
          "name": "stdout"
        }
      ]
    },
    {
      "cell_type": "code",
      "metadata": {
        "colab": {
          "base_uri": "https://localhost:8080/"
        },
        "id": "XpVxT4PWZ7ne",
        "outputId": "3b6af580-712e-4749-f058-746140a5e7ae"
      },
      "source": [
        "randomDict= {1:'1', 2:['1','2'], 3:['1','2','3']}\r\n",
        "for key, value in randomDict.items():\r\n",
        "  for v in value:\r\n",
        "     print(v,end='')"
      ],
      "execution_count": 31,
      "outputs": [
        {
          "output_type": "stream",
          "text": [
            "112123"
          ],
          "name": "stdout"
        }
      ]
    },
    {
      "cell_type": "code",
      "metadata": {
        "colab": {
          "base_uri": "https://localhost:8080/"
        },
        "id": "HqWi2oXvbsE0",
        "outputId": "fb02fe05-4d2f-4900-a193-d76bdb6a8221"
      },
      "source": [
        "customTuple= (10,20,50,30,40)\r\n",
        "customTuple= customTuple[::-1]\r\n",
        "for i in customTuple:\r\n",
        "  print(i,end='')"
      ],
      "execution_count": 35,
      "outputs": [
        {
          "output_type": "stream",
          "text": [
            "4030502010"
          ],
          "name": "stdout"
        }
      ]
    },
    {
      "cell_type": "code",
      "metadata": {
        "id": "x7plXv3pci5O"
      },
      "source": [
        "def change(customlist):\r\n",
        "  customlist[0]=0\r\n",
        "  customlist.append(1)\r\n",
        "  return customlist\r\n",
        "  randomlist=[1,2,3,4,5,6]\r\n",
        "  print(change(randomlist))\r\n",
        "\r\n"
      ],
      "execution_count": 47,
      "outputs": []
    },
    {
      "cell_type": "code",
      "metadata": {
        "id": "3a4e0Ur5dfKk"
      },
      "source": [
        "def change(customlist):\r\n",
        "  customlist[0] = 0\r\n",
        "  customlist.append(1)\r\n",
        "  return customlist\r\n",
        "  randomlist=[1,2,3,4,5,6]\r\n",
        "\r\n",
        "  print(change(randomlist))\r\n"
      ],
      "execution_count": 54,
      "outputs": []
    },
    {
      "cell_type": "code",
      "metadata": {
        "colab": {
          "base_uri": "https://localhost:8080/"
        },
        "id": "4FWJpGfteWPF",
        "outputId": "d041a918-7630-4144-8130-651062e12635"
      },
      "source": [
        "D= {1:1,2:'2','1':2,'2':3}\r\n",
        "D['1']=2\r\n",
        "print(D[D[D[str(D[1])]]])"
      ],
      "execution_count": 49,
      "outputs": [
        {
          "output_type": "stream",
          "text": [
            "3\n"
          ],
          "name": "stdout"
        }
      ]
    },
    {
      "cell_type": "code",
      "metadata": {
        "colab": {
          "base_uri": "https://localhost:8080/"
        },
        "id": "Hs5CnlqrfoT7",
        "outputId": "43460b1f-97fc-41c6-c242-5b1358a6e17a"
      },
      "source": [
        "sayılar = \"123456789\"\r\n",
        "\r\n",
        "for sayı in sayılar:\r\n",
        "    print(int(sayı) * 2)\r\n"
      ],
      "execution_count": 55,
      "outputs": [
        {
          "output_type": "stream",
          "text": [
            "2\n",
            "4\n",
            "6\n",
            "8\n",
            "10\n",
            "12\n",
            "14\n",
            "16\n",
            "18\n"
          ],
          "name": "stdout"
        }
      ]
    },
    {
      "cell_type": "code",
      "metadata": {
        "colab": {
          "base_uri": "https://localhost:8080/"
        },
        "id": "WVYLGCdGimRq",
        "outputId": "ff06f51e-ed96-4d3c-892d-b21c2aaef3b1"
      },
      "source": [
        "a = \"istihza.com\"\r\n",
        "\"h\" in a"
      ],
      "execution_count": 56,
      "outputs": [
        {
          "output_type": "execute_result",
          "data": {
            "text/plain": [
              "True"
            ]
          },
          "metadata": {
            "tags": []
          },
          "execution_count": 56
        }
      ]
    },
    {
      "cell_type": "code",
      "metadata": {
        "id": "bbIu-EHqjRpg"
      },
      "source": [
        "tr_harfler = \"şçöğüİı\"\r\n",
        "\r\n",
        "parola = input(\"Parolanız: \")\r\n",
        "\r\n",
        "for karakter in parola:\r\n",
        "    if karakter in tr_harfler:\r\n",
        "        print(\"parolada Türkçe karakter kullanılamaz\")"
      ],
      "execution_count": null,
      "outputs": []
    },
    {
      "cell_type": "code",
      "metadata": {
        "id": "DSU4yqr7ji5B"
      },
      "source": [
        "count = 1\r\n",
        "\r\n",
        "# Code block 1\r\n",
        "while count < 11:\r\n",
        "    print(count)\r\n",
        "    count = count + 1\r\n",
        "\r\n",
        "# Code block 2\r\n",
        "if count == 11:\r\n",
        "    print(\"Counting complete!\")"
      ],
      "execution_count": null,
      "outputs": []
    }
  ]
}